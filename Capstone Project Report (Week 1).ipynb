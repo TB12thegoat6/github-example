{
 "cells": [
  {
   "cell_type": "markdown",
   "metadata": {},
   "source": [
    "# Introduction"
   ]
  },
  {
   "cell_type": "markdown",
   "metadata": {},
   "source": [
    "## a. Background"
   ]
  },
  {
   "cell_type": "markdown",
   "metadata": {},
   "source": [
    "Chicago, one of the largest and most populous cities in the United States, is not only renowned for the classics like deep dish pizzas and Chicago dogs but also lauded for its diverse food scenes. Chicago was recently voted as Best Restaurant City in America by Bon Appetite Magazine, surpassing New York and Los Angeles. The city of Chicago also represents the image of a highly diverse community. In particular, the Hispanics population amounts to almost 30% of the entire population, majority of which have Mexican background, and is regarded as the fastest growing ethnics segment in the area. "
   ]
  },
  {
   "cell_type": "markdown",
   "metadata": {},
   "source": [
    "## b. Problem"
   ]
  },
  {
   "cell_type": "markdown",
   "metadata": {},
   "source": [
    "Our client, Miguel, wants to open a Mexican restaurant in Chicago that serves authentic Mexican dishes but with a sophisticated twist. However, he is unable to decide which neighborhood in Chicago should be the new home to his restaurant. He prefers a location that is close to the heart of Chicago without much existing competition in order to attract the white-collar workers in the city for lunch and after-work social hours. The objective of this project is to help him analyze the different neighborhoods in Chicago and determine the optimal locations for his restaurant. "
   ]
  },
  {
   "cell_type": "markdown",
   "metadata": {},
   "source": [
    "## Data"
   ]
  },
  {
   "cell_type": "markdown",
   "metadata": {},
   "source": [
    "In order to help Miguel solve his problem, the following information needs to be gathered: a list of all the neighborhoods in Chicago, the location coordinates for each neighborhood, and the venue information for all those neighborhoods with the emphasis on Mexican restaurants. \n",
    "\n",
    "The list of neighborhoods in Chicago can be found on Wikipedia. (https://en.wikipedia.org/wiki/List_of_neighborhoods_in_Chicago) We will scrape the web page and extract the necessary information using Python and BeautifulSoup. The Geocoder package in Python will then be used to help us obtain the location data of the neighborhoods. Lastly, we will use Foursquare API to acquire the venue information for each neighborhood. "
   ]
  },
  {
   "cell_type": "code",
   "execution_count": null,
   "metadata": {},
   "outputs": [],
   "source": []
  }
 ],
 "metadata": {
  "kernelspec": {
   "display_name": "Python 3",
   "language": "python",
   "name": "python3"
  },
  "language_info": {
   "codemirror_mode": {
    "name": "ipython",
    "version": 3
   },
   "file_extension": ".py",
   "mimetype": "text/x-python",
   "name": "python",
   "nbconvert_exporter": "python",
   "pygments_lexer": "ipython3",
   "version": "3.6.5"
  }
 },
 "nbformat": 4,
 "nbformat_minor": 2
}
